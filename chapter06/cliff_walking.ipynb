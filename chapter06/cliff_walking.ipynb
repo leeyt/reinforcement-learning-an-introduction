{
 "cells": [
  {
   "cell_type": "code",
   "execution_count": null,
   "metadata": {
    "ExecuteTime": {
     "end_time": "2018-08-27T04:20:42.272190Z",
     "start_time": "2018-08-27T04:20:42.265454Z"
    }
   },
   "outputs": [],
   "source": [
    "#######################################################################\n",
    "# Copyright (C)                                                       #\n",
    "# 2016-2018 Shangtong Zhang(zhangshangtong.cpp@gmail.com)             #\n",
    "# 2016 Kenta Shimada(hyperkentakun@gmail.com)                         #\n",
    "# Permission given to modify the code as long as you keep this        #\n",
    "# declaration at the top                                              #\n",
    "#######################################################################"
   ]
  },
  {
   "cell_type": "markdown",
   "metadata": {},
   "source": [
    "# Cliff Walking"
   ]
  },
  {
   "cell_type": "code",
   "execution_count": 2,
   "metadata": {
    "ExecuteTime": {
     "end_time": "2018-08-27T04:21:28.573194Z",
     "start_time": "2018-08-27T04:21:28.115875Z"
    }
   },
   "outputs": [],
   "source": [
    "import numpy as np\n",
    "import matplotlib\n",
    "matplotlib.use('Agg')\n",
    "import matplotlib.pyplot as plt\n",
    "%matplotlib inline\n",
    "\n",
    "from tqdm import tqdm"
   ]
  },
  {
   "cell_type": "code",
   "execution_count": 3,
   "metadata": {
    "ExecuteTime": {
     "end_time": "2018-08-27T04:21:39.424252Z",
     "start_time": "2018-08-27T04:21:39.407193Z"
    }
   },
   "outputs": [],
   "source": [
    "# world height\n",
    "WORLD_HEIGHT = 4\n",
    "\n",
    "# world width\n",
    "WORLD_WIDTH = 12\n",
    "\n",
    "# probability for exploration\n",
    "EPSILON = 0.1\n",
    "\n",
    "# step size\n",
    "ALPHA = 0.5\n",
    "\n",
    "# gamma for Q-Learning and Expected Sarsa\n",
    "GAMMA = 1\n",
    "\n",
    "# all possible actions\n",
    "ACTION_UP = 0\n",
    "ACTION_DOWN = 1\n",
    "ACTION_LEFT = 2\n",
    "ACTION_RIGHT = 3\n",
    "ACTIONS = [ACTION_UP, ACTION_DOWN, ACTION_LEFT, ACTION_RIGHT]\n",
    "\n",
    "# initial state action pair values\n",
    "START = [3, 0]\n",
    "GOAL = [3, 11]"
   ]
  },
  {
   "cell_type": "code",
   "execution_count": 4,
   "metadata": {
    "ExecuteTime": {
     "end_time": "2018-08-27T04:22:05.030708Z",
     "start_time": "2018-08-27T04:22:05.006936Z"
    }
   },
   "outputs": [],
   "source": [
    "def step(state, action):\n",
    "    i, j = state\n",
    "    if action == ACTION_UP:\n",
    "        next_state = [max(i - 1, 0), j]\n",
    "    elif action == ACTION_LEFT:\n",
    "        next_state = [i, max(j - 1, 0)]\n",
    "    elif action == ACTION_RIGHT:\n",
    "        next_state = [i, min(j + 1, WORLD_WIDTH - 1)]\n",
    "    elif action == ACTION_DOWN:\n",
    "        next_state = [min(i + 1, WORLD_HEIGHT - 1), j]\n",
    "    else:\n",
    "        assert False\n",
    "\n",
    "    reward = -1\n",
    "    if (action == ACTION_DOWN and i == 2 and 1 <= j <= 10) or (\n",
    "        action == ACTION_RIGHT and state == START):\n",
    "        reward = -100\n",
    "        next_state = START\n",
    "\n",
    "    return next_state, reward"
   ]
  },
  {
   "cell_type": "code",
   "execution_count": null,
   "metadata": {
    "ExecuteTime": {
     "end_time": "2018-08-27T04:20:42.272190Z",
     "start_time": "2018-08-27T04:20:42.265454Z"
    }
   },
   "outputs": [],
   "source": [
    "# reward for each action in each state\n",
    "# actionRewards = np.zeros((WORLD_HEIGHT, WORLD_WIDTH, 4))\n",
    "# actionRewards[:, :, :] = -1.0\n",
    "# actionRewards[2, 1:11, ACTION_DOWN] = -100.0\n",
    "# actionRewards[3, 0, ACTION_RIGHT] = -100.0\n",
    "\n",
    "# set up destinations for each action in each state\n",
    "# actionDestination = []\n",
    "# for i in range(0, WORLD_HEIGHT):\n",
    "#     actionDestination.append([])\n",
    "#     for j in range(0, WORLD_WIDTH):\n",
    "#         destinaion = dict()\n",
    "#         destinaion[ACTION_UP] = [max(i - 1, 0), j]\n",
    "#         destinaion[ACTION_LEFT] = [i, max(j - 1, 0)]\n",
    "#         destinaion[ACTION_RIGHT] = [i, min(j + 1, WORLD_WIDTH - 1)]\n",
    "#         if i == 2 and 1 <= j <= 10:\n",
    "#             destinaion[ACTION_DOWN] = START\n",
    "#         else:\n",
    "#             destinaion[ACTION_DOWN] = [min(i + 1, WORLD_HEIGHT - 1), j]\n",
    "#         actionDestination[-1].append(destinaion)\n",
    "# actionDestination[3][0][ACTION_RIGHT] = START"
   ]
  },
  {
   "cell_type": "code",
   "execution_count": 5,
   "metadata": {
    "ExecuteTime": {
     "end_time": "2018-08-27T04:22:35.649824Z",
     "start_time": "2018-08-27T04:22:35.636360Z"
    }
   },
   "outputs": [],
   "source": [
    "# choose an action based on epsilon greedy algorithm\n",
    "def choose_action(state, q_value):\n",
    "    if np.random.binomial(1, EPSILON) == 1:\n",
    "        return np.random.choice(ACTIONS)\n",
    "    else:\n",
    "        values_ = q_value[state[0], state[1], :]\n",
    "        return np.random.choice([action_ for action_, value_ in enumerate(values_) if value_ == np.max(values_)])"
   ]
  },
  {
   "cell_type": "code",
   "execution_count": 6,
   "metadata": {
    "ExecuteTime": {
     "end_time": "2018-08-27T04:23:15.816006Z",
     "start_time": "2018-08-27T04:23:15.774711Z"
    }
   },
   "outputs": [],
   "source": [
    "# an episode with Sarsa\n",
    "# @q_value: values for state action pair, will be updated\n",
    "# @expected: if True, will use expected Sarsa algorithm\n",
    "# @step_size: step size for updating\n",
    "# @return: total rewards within this episode\n",
    "def sarsa(q_value, expected=False, step_size=ALPHA):\n",
    "    state = START\n",
    "    action = choose_action(state, q_value)\n",
    "    rewards = 0.0\n",
    "    while state != GOAL:\n",
    "        next_state, reward = step(state, action)\n",
    "        next_action = choose_action(next_state, q_value)\n",
    "        rewards += reward\n",
    "        if not expected:\n",
    "            target = q_value[next_state[0], next_state[1], next_action]\n",
    "        else:\n",
    "            # calculate the expected value of new state\n",
    "            target = 0.0\n",
    "            q_next = q_value[next_state[0], next_state[1], :]\n",
    "            best_actions = np.argwhere(q_next == np.max(q_next))\n",
    "            for action_ in ACTIONS:\n",
    "                if action_ in best_actions:\n",
    "                    target += ((1.0 - EPSILON) / len(best_actions) + EPSILON / len(ACTIONS)) * q_value[next_state[0], next_state[1], action_]\n",
    "                else:\n",
    "                    target += EPSILON / len(ACTIONS) * q_value[next_state[0], next_state[1], action_]\n",
    "        target *= GAMMA\n",
    "        q_value[state[0], state[1], action] += step_size * (\n",
    "                reward + target - q_value[state[0], state[1], action])\n",
    "        state = next_state\n",
    "        action = next_action\n",
    "    return rewards"
   ]
  },
  {
   "cell_type": "code",
   "execution_count": 7,
   "metadata": {
    "ExecuteTime": {
     "end_time": "2018-08-27T04:23:16.819284Z",
     "start_time": "2018-08-27T04:23:16.802773Z"
    }
   },
   "outputs": [],
   "source": [
    "# an episode with Q-Learning\n",
    "# @q_value: values for state action pair, will be updated\n",
    "# @expected: if True, will use expected Sarsa algorithm\n",
    "# @step_size: step size for updating\n",
    "# @return: total rewards within this episode\n",
    "def q_learning(q_value, step_size=ALPHA):\n",
    "    state = START\n",
    "    rewards = 0.0\n",
    "    while state != GOAL:\n",
    "        action = choose_action(state, q_value)\n",
    "        next_state, reward = step(state, action)\n",
    "        rewards += reward\n",
    "        # Q-Learning update\n",
    "        q_value[state[0], state[1], action] += step_size * (\n",
    "                reward + GAMMA * np.max(q_value[next_state[0], next_state[1], :]) -\n",
    "                q_value[state[0], state[1], action])\n",
    "        state = next_state\n",
    "    return rewards"
   ]
  },
  {
   "cell_type": "code",
   "execution_count": 8,
   "metadata": {
    "ExecuteTime": {
     "end_time": "2018-08-27T04:23:19.809393Z",
     "start_time": "2018-08-27T04:23:19.784164Z"
    }
   },
   "outputs": [],
   "source": [
    "# print optimal policy\n",
    "def print_optimal_policy(q_value):\n",
    "    optimal_policy = []\n",
    "    for i in range(0, WORLD_HEIGHT):\n",
    "        optimal_policy.append([])\n",
    "        for j in range(0, WORLD_WIDTH):\n",
    "            if [i, j] == GOAL:\n",
    "                optimal_policy[-1].append('G')\n",
    "                continue\n",
    "            bestAction = np.argmax(q_value[i, j, :])\n",
    "            if bestAction == ACTION_UP:\n",
    "                optimal_policy[-1].append('U')\n",
    "            elif bestAction == ACTION_DOWN:\n",
    "                optimal_policy[-1].append('D')\n",
    "            elif bestAction == ACTION_LEFT:\n",
    "                optimal_policy[-1].append('L')\n",
    "            elif bestAction == ACTION_RIGHT:\n",
    "                optimal_policy[-1].append('R')\n",
    "    for row in optimal_policy:\n",
    "        print(row)"
   ]
  },
  {
   "cell_type": "code",
   "execution_count": 9,
   "metadata": {
    "ExecuteTime": {
     "end_time": "2018-08-27T04:25:21.547561Z",
     "start_time": "2018-08-27T04:24:18.507931Z"
    }
   },
   "outputs": [
    {
     "name": "stderr",
     "output_type": "stream",
     "text": [
      "100%|██████████| 50/50 [01:02<00:00,  1.25s/it]\n"
     ]
    },
    {
     "data": {
      "image/png": "[encoded data removed]",
      "text/plain": [
       "<matplotlib.figure.Figure at 0x112372898>"
      ]
     },
     "metadata": {},
     "output_type": "display_data"
    },
    {
     "name": "stdout",
     "output_type": "stream",
     "text": [
      "Sarsa Optimal Policy:\n",
      "['R', 'R', 'R', 'R', 'R', 'R', 'R', 'R', 'R', 'D', 'R', 'D']\n",
      "['R', 'U', 'R', 'R', 'D', 'U', 'U', 'U', 'R', 'R', 'R', 'D']\n",
      "['U', 'R', 'U', 'L', 'R', 'U', 'U', 'U', 'U', 'L', 'U', 'D']\n",
      "['U', 'U', 'U', 'U', 'U', 'U', 'U', 'U', 'U', 'U', 'U', 'G']\n",
      "Q-Learning Optimal Policy:\n",
      "['R', 'R', 'R', 'R', 'R', 'R', 'R', 'D', 'R', 'R', 'D', 'D']\n",
      "['R', 'R', 'D', 'D', 'R', 'D', 'D', 'D', 'R', 'R', 'R', 'D']\n",
      "['R', 'R', 'R', 'R', 'R', 'R', 'R', 'R', 'R', 'R', 'R', 'D']\n",
      "['U', 'U', 'U', 'U', 'U', 'U', 'U', 'U', 'U', 'U', 'U', 'G']\n"
     ]
    }
   ],
   "source": [
    "# Use multiple runs instead of a single run and a sliding window\n",
    "# With a single run I failed to present a smooth curve\n",
    "# However the optimal policy converges well with a single run\n",
    "# Sarsa converges to the safe path, while Q-Learning converges to the optimal path\n",
    "#\n",
    "# episodes = episodes of each run, default: 500\n",
    "# runs     = # of independent runs, default: 50\n",
    "def figure_6_4(episodes = 500, runs = 50):\n",
    "    rewards_sarsa = np.zeros(episodes)\n",
    "    rewards_q_learning = np.zeros(episodes)\n",
    "    for r in tqdm(range(runs)):\n",
    "        q_sarsa = np.zeros((WORLD_HEIGHT, WORLD_WIDTH, 4))\n",
    "        q_q_learning = np.copy(q_sarsa)\n",
    "        for i in range(0, episodes):\n",
    "            # cut off the value by -100 to draw the figure more elegantly\n",
    "            # rewards_sarsa[i] += max(sarsa(q_sarsa), -100)\n",
    "            # rewards_q_learning[i] += max(q_learning(q_q_learning), -100)\n",
    "            rewards_sarsa[i] += sarsa(q_sarsa)\n",
    "            rewards_q_learning[i] += q_learning(q_q_learning)\n",
    "\n",
    "    # averaging over independt runs\n",
    "    rewards_sarsa /= runs\n",
    "    rewards_q_learning /= runs\n",
    "\n",
    "    # draw reward curves\n",
    "    plt.plot(rewards_sarsa, label='Sarsa')\n",
    "    plt.plot(rewards_q_learning, label='Q-Learning')\n",
    "    plt.xlabel('Episodes')\n",
    "    plt.ylabel('Sum of rewards during episode')\n",
    "    plt.ylim([-100, 0])\n",
    "    plt.legend()\n",
    "\n",
    "    plt.show()\n",
    "\n",
    "    # display optimal policy\n",
    "    print('Sarsa Optimal Policy:')\n",
    "    print_optimal_policy(q_sarsa)\n",
    "    print('Q-Learning Optimal Policy:')\n",
    "    print_optimal_policy(q_q_learning)\n",
    "    \n",
    "figure_6_4()"
   ]
  },
  {
   "cell_type": "code",
   "execution_count": 10,
   "metadata": {
    "ExecuteTime": {
     "end_time": "2018-08-27T04:37:24.742940Z",
     "start_time": "2018-08-27T04:29:11.982670Z"
    }
   },
   "outputs": [
    {
     "name": "stderr",
     "output_type": "stream",
     "text": [
      "100%|██████████| 10/10 [00:41<00:00,  4.13s/it]\n",
      "100%|██████████| 10/10 [00:45<00:00,  4.51s/it]\n",
      "100%|██████████| 10/10 [00:49<00:00,  5.00s/it]\n",
      "100%|██████████| 10/10 [00:53<00:00,  5.33s/it]\n",
      "100%|██████████| 10/10 [00:49<00:00,  4.91s/it]\n",
      "100%|██████████| 10/10 [00:44<00:00,  4.46s/it]\n",
      "100%|██████████| 10/10 [00:44<00:00,  4.42s/it]\n",
      "100%|██████████| 10/10 [01:01<00:00,  6.10s/it]\n",
      "100%|██████████| 10/10 [00:47<00:00,  4.72s/it]\n",
      "100%|██████████| 10/10 [00:56<00:00,  5.63s/it]\n"
     ]
    },
    {
     "data": {
      "image/png": "[encoded data removed]",
      "text/plain": [
       "<matplotlib.figure.Figure at 0x112475630>"
      ]
     },
     "metadata": {},
     "output_type": "display_data"
    }
   ],
   "source": [
    "# Due to limited capacity of calculation of my machine, I can't complete this experiment\n",
    "# with 100,000 episodes and 50,000 runs to get the fully averaged performance\n",
    "# However even I only play for 1,000 episodes and 10 runs, the curves looks still good.\n",
    "#\n",
    "# episodes = episodes of each run, default: 500\n",
    "# runs     = # of independent runs, default: 50\n",
    "def figure_6_6(episodes = 1000, runs = 10):\n",
    "    step_sizes = np.arange(0.1, 1.1, 0.1)\n",
    "\n",
    "    ASY_SARSA = 0\n",
    "    ASY_EXPECTED_SARSA = 1\n",
    "    ASY_QLEARNING = 2\n",
    "    INT_SARSA = 3\n",
    "    INT_EXPECTED_SARSA = 4\n",
    "    INT_QLEARNING = 5\n",
    "    methods = range(0, 6)\n",
    "\n",
    "    performace = np.zeros((6, len(step_sizes)))\n",
    "    for run in range(runs):\n",
    "        for ind, step_size in tqdm(list(zip(range(0, len(step_sizes)), step_sizes))):\n",
    "            q_sarsa = np.zeros((WORLD_HEIGHT, WORLD_WIDTH, 4))\n",
    "            q_expected_sarsa = np.copy(q_sarsa)\n",
    "            q_q_learning = np.copy(q_sarsa)\n",
    "            for ep in range(episodes):\n",
    "                sarsa_reward = sarsa(q_sarsa, expected=False, step_size=step_size)\n",
    "                expected_sarsa_reward = sarsa(q_expected_sarsa, expected=True, step_size=step_size)\n",
    "                q_learning_reward = q_learning(q_q_learning, step_size=step_size)\n",
    "                performace[ASY_SARSA, ind] += sarsa_reward\n",
    "                performace[ASY_EXPECTED_SARSA, ind] += expected_sarsa_reward\n",
    "                performace[ASY_QLEARNING, ind] += q_learning_reward\n",
    "\n",
    "                if ep < 100:\n",
    "                    performace[INT_SARSA, ind] += sarsa_reward\n",
    "                    performace[INT_EXPECTED_SARSA, ind] += expected_sarsa_reward\n",
    "                    performace[INT_QLEARNING, ind] += q_learning_reward\n",
    "\n",
    "    performace[:3, :] /= episodes * runs\n",
    "    performace[3:, :] /= 100 * runs\n",
    "    labels = ['Asymptotic Sarsa', 'Asymptotic Expected Sarsa', 'Asymptotic Q-Learning',\n",
    "              'Interim Sarsa', 'Interim Expected Sarsa', 'Interim Q-Learning']\n",
    "\n",
    "    for method, label in zip(methods, labels):\n",
    "        plt.plot(step_sizes, performace[method, :], label=label)\n",
    "    plt.xlabel('alpha')\n",
    "    plt.ylabel('reward per episode')\n",
    "    plt.legend()\n",
    "\n",
    "    plt.show()\n",
    "\n",
    "figure_6_6()"
   ]
  }
 ],
 "metadata": {
  "kernelspec": {
   "display_name": "Python 3",
   "language": "python",
   "name": "python3"
  },
  "language_info": {
   "codemirror_mode": {
    "name": "ipython",
    "version": 3
   },
   "file_extension": ".py",
   "mimetype": "text/x-python",
   "name": "python",
   "nbconvert_exporter": "python",
   "pygments_lexer": "ipython3",
   "version": "3.6.3"
  },
  "toc": {
   "base_numbering": 1,
   "nav_menu": {},
   "number_sections": true,
   "sideBar": true,
   "skip_h1_title": false,
   "title_cell": "Table of Contents",
   "title_sidebar": "Contents",
   "toc_cell": false,
   "toc_position": {},
   "toc_section_display": true,
   "toc_window_display": false
  },
  "varInspector": {
   "cols": {
    "lenName": 16,
    "lenType": 16,
    "lenVar": 40
   },
   "kernels_config": {
    "python": {
     "delete_cmd_postfix": "",
     "delete_cmd_prefix": "del ",
     "library": "var_list.py",
     "varRefreshCmd": "print(var_dic_list())"
    },
    "r": {
     "delete_cmd_postfix": ") ",
     "delete_cmd_prefix": "rm(",
     "library": "var_list.r",
     "varRefreshCmd": "cat(var_dic_list()) "
    }
   },
   "types_to_exclude": [
    "module",
    "function",
    "builtin_function_or_method",
    "instance",
    "_Feature"
   ],
   "window_display": false
  }
 },
 "nbformat": 4,
 "nbformat_minor": 2
}
