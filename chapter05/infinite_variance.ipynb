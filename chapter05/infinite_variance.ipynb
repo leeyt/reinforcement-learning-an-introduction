{
 "cells": [
  {
   "cell_type": "code",
   "execution_count": null,
   "metadata": {
    "ExecuteTime": {
     "end_time": "2018-08-24T10:35:03.651046Z",
     "start_time": "2018-08-24T10:35:03.644640Z"
    }
   },
   "outputs": [],
   "source": [
    "#######################################################################\n",
    "# Copyright (C)                                                       #\n",
    "# 2016-2018 Shangtong Zhang(zhangshangtong.cpp@gmail.com)             #\n",
    "# 2016 Kenta Shimada(hyperkentakun@gmail.com)                         #\n",
    "# Permission given to modify the code as long as you keep this        #\n",
    "# declaration at the top                                              #\n",
    "#######################################################################"
   ]
  },
  {
   "cell_type": "code",
   "execution_count": 2,
   "metadata": {
    "ExecuteTime": {
     "end_time": "2018-08-24T10:35:27.573903Z",
     "start_time": "2018-08-24T10:35:27.178561Z"
    }
   },
   "outputs": [],
   "source": [
    "import numpy as np\n",
    "import matplotlib\n",
    "matplotlib.use('Agg')\n",
    "\n",
    "import matplotlib.pyplot as plt\n",
    "%matplotlib inline"
   ]
  },
  {
   "cell_type": "code",
   "execution_count": 3,
   "metadata": {
    "ExecuteTime": {
     "end_time": "2018-08-24T10:35:31.992461Z",
     "start_time": "2018-08-24T10:35:31.984066Z"
    }
   },
   "outputs": [],
   "source": [
    "ACTION_BACK = 0\n",
    "ACTION_END = 1"
   ]
  },
  {
   "cell_type": "code",
   "execution_count": 4,
   "metadata": {
    "ExecuteTime": {
     "end_time": "2018-08-24T10:35:45.905944Z",
     "start_time": "2018-08-24T10:35:45.896550Z"
    }
   },
   "outputs": [],
   "source": [
    "# behavior policy\n",
    "def behavior_policy():\n",
    "    return np.random.binomial(1, 0.5)"
   ]
  },
  {
   "cell_type": "code",
   "execution_count": 5,
   "metadata": {
    "ExecuteTime": {
     "end_time": "2018-08-24T10:35:54.145233Z",
     "start_time": "2018-08-24T10:35:54.136851Z"
    }
   },
   "outputs": [],
   "source": [
    "# target policy\n",
    "def target_policy():\n",
    "    return ACTION_BACK"
   ]
  },
  {
   "cell_type": "code",
   "execution_count": 6,
   "metadata": {
    "ExecuteTime": {
     "end_time": "2018-08-24T10:36:08.330638Z",
     "start_time": "2018-08-24T10:36:08.316309Z"
    }
   },
   "outputs": [],
   "source": [
    "# one turn\n",
    "def play():\n",
    "    # track the action for importance ratio\n",
    "    trajectory = []\n",
    "    while True:\n",
    "        action = behavior_policy()\n",
    "        trajectory.append(action)\n",
    "        if action == ACTION_END:\n",
    "            return 0, trajectory\n",
    "        if np.random.binomial(1, 0.9) == 0:\n",
    "            return 1, trajectory"
   ]
  },
  {
   "cell_type": "code",
   "execution_count": 7,
   "metadata": {
    "ExecuteTime": {
     "end_time": "2018-08-24T10:36:36.867636Z",
     "start_time": "2018-08-24T10:36:28.360768Z"
    }
   },
   "outputs": [
    {
     "data": {
      "image/png": "[encoded data removed]",
      "text/plain": [
       "<matplotlib.figure.Figure at 0x1052536d8>"
      ]
     },
     "metadata": {},
     "output_type": "display_data"
    }
   ],
   "source": [
    "def figure_5_4():\n",
    "    runs = 10\n",
    "    episodes = 100000\n",
    "    for run in range(runs):\n",
    "        rewards = []\n",
    "        for episode in range(0, episodes):\n",
    "            reward, trajectory = play()\n",
    "            if trajectory[-1] == ACTION_END:\n",
    "                rho = 0\n",
    "            else:\n",
    "                rho = 1.0 / pow(0.5, len(trajectory))\n",
    "            rewards.append(rho * reward)\n",
    "        rewards = np.add.accumulate(rewards)\n",
    "        estimations = np.asarray(rewards) / np.arange(1, episodes + 1)\n",
    "        plt.plot(estimations)\n",
    "    plt.xlabel('Episodes (log scale)')\n",
    "    plt.ylabel('Ordinary Importance Sampling')\n",
    "    plt.xscale('log')\n",
    "\n",
    "    plt.show()\n",
    "\n",
    "figure_5_4()"
   ]
  }
 ],
 "metadata": {
  "kernelspec": {
   "display_name": "Python 3",
   "language": "python",
   "name": "python3"
  },
  "language_info": {
   "codemirror_mode": {
    "name": "ipython",
    "version": 3
   },
   "file_extension": ".py",
   "mimetype": "text/x-python",
   "name": "python",
   "nbconvert_exporter": "python",
   "pygments_lexer": "ipython3",
   "version": "3.6.3"
  },
  "toc": {
   "base_numbering": 1,
   "nav_menu": {},
   "number_sections": true,
   "sideBar": true,
   "skip_h1_title": false,
   "title_cell": "Table of Contents",
   "title_sidebar": "Contents",
   "toc_cell": false,
   "toc_position": {},
   "toc_section_display": true,
   "toc_window_display": false
  },
  "varInspector": {
   "cols": {
    "lenName": 16,
    "lenType": 16,
    "lenVar": 40
   },
   "kernels_config": {
    "python": {
     "delete_cmd_postfix": "",
     "delete_cmd_prefix": "del ",
     "library": "var_list.py",
     "varRefreshCmd": "print(var_dic_list())"
    },
    "r": {
     "delete_cmd_postfix": ") ",
     "delete_cmd_prefix": "rm(",
     "library": "var_list.r",
     "varRefreshCmd": "cat(var_dic_list()) "
    }
   },
   "types_to_exclude": [
    "module",
    "function",
    "builtin_function_or_method",
    "instance",
    "_Feature"
   ],
   "window_display": false
  }
 },
 "nbformat": 4,
 "nbformat_minor": 2
}
